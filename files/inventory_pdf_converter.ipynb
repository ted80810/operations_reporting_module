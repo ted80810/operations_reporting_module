{
 "cells": [
  {
   "cell_type": "markdown",
   "id": "d70346a2-21f4-4d4a-afa5-f9c3c5e9ef0f",
   "metadata": {},
   "source": [
    "### MS Inventory PDF Converter"
   ]
  },
  {
   "cell_type": "markdown",
   "id": "a5e0fc73-39ba-4d02-a76b-cf6202e319b4",
   "metadata": {},
   "source": [
    "The code is stored in a container called jupyter-lite. This container contains all the libraries and programs needed to run the code. Jupyter-lite is a web based container so you simply need the link to open the application. However, the code is stored in a cloud space so local file can only be accessed through an extension. The extension is already installed, but it only works in Google Chrome currently.\n",
    "\n",
    "To run the code, upload the pdf to the same folder as the file label pdf_conveter.ipynb. This is the raw code so you will to specify the filename and number of pages right in the code. You need to specify the name of the file where it says “type filename”. Specify the number of pages in the document where it says, “type number of pages here.” Lastly, to run the code click the first cell at the top of the page under the title then press shift+enter to run that cell. Always start from the first code cell moving downward."
   ]
  },
  {
   "cell_type": "code",
   "execution_count": 1,
   "id": "24b25b6c-6001-4f2f-8cd7-a3bda197506b",
   "metadata": {},
   "outputs": [],
   "source": [
    "import tabula\n",
    "import numpy as np\n",
    "import pandas as pd\n",
    "import glob"
   ]
  },
  {
   "cell_type": "code",
   "execution_count": 7,
   "id": "9ecaed53-9da9-426e-b1cd-35731e573d80",
   "metadata": {},
   "outputs": [],
   "source": [
    "filename = 'MS_Inventory_April 2022.csv' #<----- change this number to amount of pages in pdf\n",
    "pages = 7 #<----- change this number to amount of pages in pdf\n",
    "pages = pages + 1"
   ]
  },
  {
   "cell_type": "code",
   "execution_count": 8,
   "id": "53f67e82-3d52-4927-aa59-756b55e437ad",
   "metadata": {},
   "outputs": [],
   "source": [
    "for page in range (1,pages):\n",
    "    \n",
    "    #read pdf\n",
    "    read = tabula.read_pdf(filename, pages=str(page), pandas_options={'header': None}, guess=False, stream=True)[0]\n",
    "    body = tabula.read_pdf(filename, pages=str(page), pandas_options={'header': None}, guess=True, stream=True)[0]\n",
    "    \n",
    "    #assign columns\n",
    "    body.columns = ['Wrin Number', 'Description', 'UOM', 'Initial Inv', 'Purchases', 'Trans +/-', 'Adjust', 'Account Adjust', 'Final Inv', 'Account Usage (Inventory)', 'Cond', 'Raw Waste', 'Theorical Usage (P.mix)', 'Amount in $ Stat +/-']\n",
    "   \n",
    "    #extract metadata as additional columns\n",
    "    meta = read.drop(labels= [3,4], axis=0)\n",
    "    meta = meta.iloc[0:6]\n",
    "\n",
    "    #add metadata as new columns\n",
    "    meta_data = {'1': meta.iloc[0:,0], '2': meta.iloc[0:,1], '3': meta.iloc[0:,2], '4': meta.iloc[0:,3],'5': meta.iloc[0:,4]}\n",
    "    meta_data = pd.DataFrame(meta_data, index=body.index)\n",
    "    body = pd.concat([meta_data, body], axis=1)\n",
    "    \n",
    "    #save as csv \n",
    "    body.to_csv(f'inv_{page}.csv')\n",
    "    "
   ]
  },
  {
   "cell_type": "code",
   "execution_count": 9,
   "id": "8c9730c2-b429-4fe1-a379-6619054e1760",
   "metadata": {},
   "outputs": [
    {
     "name": "stdout",
     "output_type": "stream",
     "text": [
      "['inv_1.csv', 'inv_2.csv', 'inv_3.csv', 'inv_4.csv', 'inv_5.csv', 'inv_6.csv', 'inv_7.csv']\n"
     ]
    }
   ],
   "source": [
    "files = glob.glob('inv*.csv', \n",
    "                   recursive = True)\n",
    "print(files)"
   ]
  },
  {
   "cell_type": "code",
   "execution_count": 11,
   "id": "ffdc1623-f4d8-4a8b-8dcd-9845edd5ce24",
   "metadata": {},
   "outputs": [],
   "source": [
    "df = pd.concat(\n",
    "    map(pd.read_csv, files), ignore_index=True)"
   ]
  },
  {
   "cell_type": "code",
   "execution_count": 13,
   "id": "83e1e073-b5aa-4170-b338-ccab7c13dd30",
   "metadata": {},
   "outputs": [],
   "source": [
    "df.to_csv('test.csv')"
   ]
  }
 ],
 "metadata": {
  "kernelspec": {
   "display_name": "Python 3 (ipykernel)",
   "language": "python",
   "name": "python3"
  },
  "language_info": {
   "codemirror_mode": {
    "name": "ipython",
    "version": 3
   },
   "file_extension": ".py",
   "mimetype": "text/x-python",
   "name": "python",
   "nbconvert_exporter": "python",
   "pygments_lexer": "ipython3",
   "version": "3.10.5"
  }
 },
 "nbformat": 4,
 "nbformat_minor": 5
}
